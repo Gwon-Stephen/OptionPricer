{
  "nbformat": 4,
  "nbformat_minor": 0,
  "metadata": {
    "colab": {
      "provenance": []
    },
    "kernelspec": {
      "name": "python3",
      "display_name": "Python 3"
    },
    "language_info": {
      "name": "python"
    }
  },
  "cells": [
    {
      "cell_type": "markdown",
      "source": [
        "# Option Pricing using the Black-Scholes-Merton Model\n",
        "\n",
        "The Black Scholes model is one of the most widely used methods for pricing options. It calculates the theoretical value of an option based on five key variables:\n",
        "\n",
        "\n",
        "\n",
        "*   Underlying Price (S)\n",
        "*   Strike Price (K)\n",
        "\n",
        "*   Time to Expiration (T)\n",
        "*   Risk Free Rate (r)\n",
        "\n",
        "*   Volatility (σ)\n",
        "\n",
        "\n",
        "\n",
        "\n"
      ],
      "metadata": {
        "id": "CRz_qlTcd0mk"
      }
    },
    {
      "cell_type": "markdown",
      "source": [
        "Import Libraries"
      ],
      "metadata": {
        "id": "CqALheWZefDE"
      }
    },
    {
      "cell_type": "code",
      "source": [
        "import math\n",
        "from scipy. stats import norm"
      ],
      "metadata": {
        "id": "OfDFCQZkehl5"
      },
      "execution_count": 1,
      "outputs": []
    },
    {
      "cell_type": "markdown",
      "source": [
        "Define Variables"
      ],
      "metadata": {
        "id": "723XyoNWefD-"
      }
    },
    {
      "cell_type": "code",
      "source": [
        "#based of John Hull's Derivatives book\n",
        "\n",
        "#underlying price\n",
        "S = 42\n",
        "\n",
        "#strike price\n",
        "K = 40\n",
        "\n",
        "#time to expiration\n",
        "T = 0.5 #year\n",
        "\n",
        "#risk free rate\n",
        "r = .1 #10%\n",
        "\n",
        "#volatility\n",
        "vol = 0.2"
      ],
      "metadata": {
        "id": "0k2saU-Selru"
      },
      "execution_count": 3,
      "outputs": []
    },
    {
      "cell_type": "markdown",
      "source": [
        "## Calculate D1\n",
        "\n",
        "The formula for d1 is:\n",
        "\n",
        "$$\n",
        "d_1 = \\frac{\\ln\\left(\\frac{S}{K}\\right) + \\left(r + \\frac{\\sigma^2}{2}\\right)T}{\\sigma\\sqrt{T}}\n",
        "$$\n",
        "\n",
        "The formula for d2 is:\n",
        "\n",
        "$$\n",
        "d_2 = d_1 - \\sigma\\sqrt{T}\n",
        "$$\n"
      ],
      "metadata": {
        "id": "mA0WEIdpfOPu"
      }
    },
    {
      "cell_type": "code",
      "source": [
        "d1 = (math.log(S/K) + (r + 0.5 * vol**2) * T) / (vol * math.sqrt(T))"
      ],
      "metadata": {
        "id": "Ha7igxSVgCM_"
      },
      "execution_count": 5,
      "outputs": []
    },
    {
      "cell_type": "code",
      "source": [
        "d2 = d1 - (vol * math.sqrt(T))"
      ],
      "metadata": {
        "id": "hNjlGxqLgZmf"
      },
      "execution_count": 6,
      "outputs": []
    },
    {
      "cell_type": "markdown",
      "source": [
        "## Calculate Call Option Price\n",
        "\n",
        "Call option price (C) is calculated using:\n",
        "\n",
        "$$\n",
        "C = S_0 * N(d_1) - K * e^{-rT} * N(d_2)\n",
        "$$\n",
        "\n",
        "(N is probability)"
      ],
      "metadata": {
        "id": "WdhWkprPgemu"
      }
    },
    {
      "cell_type": "code",
      "source": [
        "C = S * norm.cdf(d1) - K * math.exp(-r * T) * norm.cdf(d2)"
      ],
      "metadata": {
        "id": "PITHILaqhBkt"
      },
      "execution_count": 7,
      "outputs": []
    },
    {
      "cell_type": "markdown",
      "source": [
        "## Calculate Put Option Price\n",
        "\n",
        "Put option price (P) is calculated using:\n",
        "\n",
        "$$\n",
        "P = K * e^{-rT} * N(-d_2) - S_0 * N(-d_1)\n",
        "$$"
      ],
      "metadata": {
        "id": "yAFBslw0hhT1"
      }
    },
    {
      "cell_type": "code",
      "source": [
        "P = K * math.exp(-r * T) * norm.cdf(-d2) - S * norm.cdf(-d1)"
      ],
      "metadata": {
        "id": "JjDez6PohlT2"
      },
      "execution_count": 8,
      "outputs": []
    },
    {
      "cell_type": "markdown",
      "source": [
        "## Print Results"
      ],
      "metadata": {
        "id": "S4CYKV7SiIQ_"
      }
    },
    {
      "cell_type": "code",
      "source": [
        "print('d1: ', round(d1, 4))\n",
        "print('d2: ', round(d2, 4))\n",
        "print('Call option price: $', round(C, 2))\n",
        "print('Put option price: $', round(P, 2))"
      ],
      "metadata": {
        "colab": {
          "base_uri": "https://localhost:8080/"
        },
        "id": "ersTZoeDiJ8G",
        "outputId": "c7be1a2c-397b-4c8c-9038-abeb387d2edd"
      },
      "execution_count": 9,
      "outputs": [
        {
          "output_type": "stream",
          "name": "stdout",
          "text": [
            "d1:  0.7693\n",
            "d2:  0.6278\n",
            "Call option price: $ 4.76\n",
            "Put option price: $ 0.81\n"
          ]
        }
      ]
    }
  ]
}
